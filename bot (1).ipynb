{
 "cells": [
  {
   "cell_type": "code",
   "execution_count": null,
   "metadata": {},
   "outputs": [],
   "source": [
    "import telebot\n",
    "\n",
    "#autenticando o bot\n",
    "TOKEN = '...'\n",
    "bot = telebot.TeleBot(TOKEN)\n",
    "\n",
    "#organizando start e help\n",
    "@bot.message_handler(commands=['start', 'help'])\n",
    "def send_welcome(message):\n",
    "    bot.reply_to(message, \"Olá, eu sou o PyRolês[14]! \\nEu consigo fazer uploads de todas as fotos dos rolês que aconteceram na Python Brasil [14] para uma pasta no Google Drive. \\nMas para isso acontecer, é necessário seguir algumas informações antes:\\n\\n▪️ É preciso que você envie por aqui a fotografia. Não envie como documento, eu só aceito 'ibagens'.  \\n▪️ Não envie imagens de pessoas caso elas não queiram ou não saibam. Pergunte antes! 📵  \\n▪️ Não envie nudes. 🔞  \\n\\nE lembre-se: \\nPessoas >>> Tecnologia. \\nUm ótimo evento para você! 💛💙\")\n",
    "\n",
    "#tentativa de fazer upload para o pc fracassada\n",
    "@bot.message_handler(content_types=['photo'])\n",
    "def get_doc(message):\n",
    "    raw = message.photo[-1].file_id\n",
    "    path = raw+\".jpg\"\n",
    "    file_info = bot.get_file(raw)\n",
    "    downloaded_file = bot.download_file(file_info.file_path)\n",
    "    with open(path,'wb') as new_file:\n",
    "        new_file.write(downloaded_file)\n",
    "    bot.reply_to(message, \"A sua fotografia agora faz parte do álbum da PyRolês[14]. \\nObrigada por fazer essa comunidade ser tão maravilhosa!💛💙\")\n",
    "\n",
    "bot.polling()"
   ]
  },
  {
   "cell_type": "code",
   "execution_count": 7,
   "metadata": {},
   "outputs": [],
   "source": [
    "FILES_DIR = \"YourDir\"\n",
    "FLICKR = {\n",
    "        \"title\"                 : \"\",\n",
    "        \"description\"           : \"\",\n",
    "        \"tags\"                  : \"auto-upload\",\n",
    "        \"is_public\"             : \"0\",\n",
    "        \"is_friend\"             : \"0\",\n",
    "        \"is_family\"             : \"0\",\n",
    "        \"api_key\"               : \"Yourkey\",\n",
    "        \"secret\"                : \"YourSecret\"\n",
    "        }\n",
    "FLICKR[\"api_key\"] = \"\"\n",
    "FLICKR[\"secret\"] = \"\"\n",
    "EXCLUDED_FOLDERS = [\"@eaDir\",\"#recycle\"]\n",
    "IGNORED_REGEX = ['*[Ii][Gg][Nn][Oo][Rr][Ee]*', 'Private*']\n",
    "ALLOWED_EXT = [\"jpg\",\"png\",\"avi\",\"mov\",\"mpg\",\"mp4\",\"3gp\"]\n",
    "MANAGE_CHANGES = True\n",
    "FULL_SET_NAME = False"
   ]
  },
  {
   "cell_type": "code",
   "execution_count": null,
   "metadata": {},
   "outputs": [],
   "source": []
  }
 ],
 "metadata": {
  "kernelspec": {
   "display_name": "Python 3",
   "language": "python",
   "name": "python3"
  },
  "language_info": {
   "codemirror_mode": {
    "name": "ipython",
    "version": 3
   },
   "file_extension": ".py",
   "mimetype": "text/x-python",
   "name": "python",
   "nbconvert_exporter": "python",
   "pygments_lexer": "ipython3",
   "version": "3.6.5"
  }
 },
 "nbformat": 4,
 "nbformat_minor": 2
}
